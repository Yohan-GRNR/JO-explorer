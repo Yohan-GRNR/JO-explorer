{
 "cells": [
  {
   "cell_type": "markdown",
   "metadata": {},
   "source": [
    "# <a id='toc1_'></a>[JO 2024 project](#toc0_)"
   ]
  },
  {
   "cell_type": "markdown",
   "metadata": {},
   "source": [
    "**Table of contents**<a id='toc0_'></a>    \n",
    "- [JO 2024 project](#toc1_)    \n",
    "  - [Prelude](#toc1_1_)    \n",
    "  - [Imports](#toc1_2_)    \n",
    "  - [Fonctions](#toc1_3_)    \n",
    "  - [Data collect](#toc1_4_)    \n",
    "    - [Extract one country data](#toc1_4_1_)    \n",
    "    - [Extract All countries data](#toc1_4_2_)    \n",
    "    - [Extract all data](#toc1_4_3_)    \n",
    "\n",
    "<!-- vscode-jupyter-toc-config\n",
    "\tnumbering=false\n",
    "\tanchor=true\n",
    "\tflat=false\n",
    "\tminLevel=1\n",
    "\tmaxLevel=6\n",
    "\t/vscode-jupyter-toc-config -->\n",
    "<!-- THIS CELL WILL BE REPLACED ON TOC UPDATE. DO NOT WRITE YOUR TEXT IN THIS CELL -->"
   ]
  },
  {
   "cell_type": "markdown",
   "metadata": {},
   "source": [
    "## <a id='toc1_1_'></a>[Prelude](#toc0_)"
   ]
  },
  {
   "cell_type": "markdown",
   "metadata": {},
   "source": [
    "Work in progress . . .  \n",
    "\n",
    "Summarize about the project :\n",
    "- Data source : <a href=\"https://www.olympic.org/news\">International Olympic Committee</a>\n",
    "- Data extract from : <a href=\"http://olympanalyt.com/OlympAnalytics.php\">olympanalyt.com - mail : sportsencyclo@gmail.com</a>"
   ]
  },
  {
   "cell_type": "markdown",
   "metadata": {},
   "source": [
    "## <a id='toc1_2_'></a>[Imports](#toc0_)"
   ]
  },
  {
   "cell_type": "code",
   "execution_count": 84,
   "metadata": {},
   "outputs": [],
   "source": [
    "from bs4 import BeautifulSoup\n",
    "import requests\n",
    "import pandas as pd"
   ]
  },
  {
   "cell_type": "markdown",
   "metadata": {},
   "source": [
    "## <a id='toc1_3_'></a>[Fonctions](#toc0_)"
   ]
  },
  {
   "cell_type": "code",
   "execution_count": 85,
   "metadata": {},
   "outputs": [],
   "source": [
    "def GetHTML(url) :\n",
    "    \"\"\"\n",
    "    Needs : url website\n",
    "    Return : HTML text\n",
    "    \"\"\"\n",
    "    response = requests.get(url)\n",
    "\n",
    "    if response.status_code == 200 :\n",
    "        print(\"Response OK, continue.\")\n",
    "    else :\n",
    "        print(\"Access impossible.\")\n",
    "    \n",
    "    return response.text"
   ]
  },
  {
   "cell_type": "code",
   "execution_count": 86,
   "metadata": {},
   "outputs": [],
   "source": [
    "def Getdataframe(html) :\n",
    "\n",
    "    \"\"\"\n",
    "    Needs : HTML text \n",
    "            with response = requests.get(url).text\n",
    "    Return : Dataframe with athlete AND sport description : medal, country, athlete_name, games, sport, event\n",
    "    Requirement : Must to apply on website like : adress[COUNTRY]adress\n",
    "                i.e : http://olympanalyt.com/OlympAnalytics.php?param_pagetype=Medals&param_dbversion=&param_country=[COUNTRY]&param_games=ALL&param_sport=ALL\n",
    "    \"\"\"\n",
    "\n",
    "    # Converting text (html) in soup (text parsed)\n",
    "    soup = BeautifulSoup(html, \"html5lib\") #parse\n",
    "\n",
    "    # Finding the correct table according to description\n",
    "    table = soup.find(\"table\", class_=\"simpletable\", style=\"text-align:left;\")\n",
    "\n",
    "    # Retrieving the list (find_all) of all rows\n",
    "    rows = table.find_all(\"tr\")\n",
    "\n",
    "    # Creating the table (future dataframe)\n",
    "    athletes = []\n",
    "\n",
    "    # For each row (= athlete)\n",
    "    for row in rows:\n",
    "        #describe_athlete = row.text.split() # Get the text\n",
    "        cells = row.find_all(\"td\") # Retrieving the list (find_all) of all cells in the row\n",
    "\n",
    "        if len(cells) == 7: # If there are 7 cells then it's an athlete\n",
    "            medal = cells[0].find('img')['title'][0]  # Medal title\n",
    "            country = cells[1].find('img')['title']  # Athlete's country\n",
    "            athlete_name = cells[2].text.strip()  # Athlete's name\n",
    "            games = cells[3].find('img')['title']  # Olympic Games\n",
    "            sport = cells[4].find('img')['title']  # Sport\n",
    "            event = cells[6].text.strip()  # Event\n",
    "\n",
    "            # Add the information to the list of athletes\n",
    "            athletes.append({\n",
    "                'medal': medal,\n",
    "                'country': country,\n",
    "                'athlete_name': athlete_name,\n",
    "                'games': games,\n",
    "                'sport': sport,\n",
    "                'event': event\n",
    "                })\n",
    "            #print(cells)\n",
    "\n",
    "        else: # Otherwise it's not an athlete, move to the next row\n",
    "            next\n",
    "\n",
    "    return pd.DataFrame(athletes)\n"
   ]
  },
  {
   "cell_type": "markdown",
   "metadata": {},
   "source": [
    "## <a id='toc1_4_'></a>[Data collect](#toc0_)"
   ]
  },
  {
   "cell_type": "markdown",
   "metadata": {},
   "source": [
    "### <a id='toc1_4_1_'></a>[Extract one country data](#toc0_)"
   ]
  },
  {
   "cell_type": "code",
   "execution_count": 87,
   "metadata": {},
   "outputs": [],
   "source": [
    "url = \"http://olympanalyt.com/OlympAnalytics.php?param_pagetype=Medals&param_dbversion=&param_country=FRA&param_games=ALL&param_sport=ALL\""
   ]
  },
  {
   "cell_type": "code",
   "execution_count": 88,
   "metadata": {},
   "outputs": [
    {
     "name": "stdout",
     "output_type": "stream",
     "text": [
      "Response OK, continue.\n"
     ]
    }
   ],
   "source": [
    "# Try with one country - FRA (France)\n",
    "html = GetHTML(url)"
   ]
  },
  {
   "cell_type": "code",
   "execution_count": 89,
   "metadata": {},
   "outputs": [
    {
     "data": {
      "text/html": [
       "<div>\n",
       "<style scoped>\n",
       "    .dataframe tbody tr th:only-of-type {\n",
       "        vertical-align: middle;\n",
       "    }\n",
       "\n",
       "    .dataframe tbody tr th {\n",
       "        vertical-align: top;\n",
       "    }\n",
       "\n",
       "    .dataframe thead th {\n",
       "        text-align: right;\n",
       "    }\n",
       "</style>\n",
       "<table border=\"1\" class=\"dataframe\">\n",
       "  <thead>\n",
       "    <tr style=\"text-align: right;\">\n",
       "      <th></th>\n",
       "      <th>medal</th>\n",
       "      <th>country</th>\n",
       "      <th>athlete_name</th>\n",
       "      <th>games</th>\n",
       "      <th>sport</th>\n",
       "      <th>event</th>\n",
       "    </tr>\n",
       "  </thead>\n",
       "  <tbody>\n",
       "    <tr>\n",
       "      <th>844</th>\n",
       "      <td>1</td>\n",
       "      <td>France</td>\n",
       "      <td>ABALO LucFABREGAS LudovicGERARD VincentKARABAT...</td>\n",
       "      <td>Japan</td>\n",
       "      <td>Handball</td>\n",
       "      <td>handball</td>\n",
       "    </tr>\n",
       "    <tr>\n",
       "      <th>403</th>\n",
       "      <td>1</td>\n",
       "      <td>France</td>\n",
       "      <td>Jean-Claude KILLY</td>\n",
       "      <td>France</td>\n",
       "      <td>Alpine Skiing</td>\n",
       "      <td>downhill</td>\n",
       "    </tr>\n",
       "    <tr>\n",
       "      <th>210</th>\n",
       "      <td>2</td>\n",
       "      <td>France</td>\n",
       "      <td>Eugène CONSTANTErnest BARBEROLLEGeorges LECOIN...</td>\n",
       "      <td>France</td>\n",
       "      <td>Rowing</td>\n",
       "      <td>four-oared shell with coxswain</td>\n",
       "    </tr>\n",
       "    <tr>\n",
       "      <th>462</th>\n",
       "      <td>2</td>\n",
       "      <td>France</td>\n",
       "      <td>Angelo PARISI</td>\n",
       "      <td>United States</td>\n",
       "      <td>Judo</td>\n",
       "      <td>+ 95kg (heavyweight)</td>\n",
       "    </tr>\n",
       "    <tr>\n",
       "      <th>698</th>\n",
       "      <td>2</td>\n",
       "      <td>France</td>\n",
       "      <td>Benjamin DARBELET</td>\n",
       "      <td>China</td>\n",
       "      <td>Judo</td>\n",
       "      <td>60 - 66kg (half-lightweight)</td>\n",
       "    </tr>\n",
       "  </tbody>\n",
       "</table>\n",
       "</div>"
      ],
      "text/plain": [
       "    medal country                                       athlete_name  \\\n",
       "844     1  France  ABALO LucFABREGAS LudovicGERARD VincentKARABAT...   \n",
       "403     1  France                                  Jean-Claude KILLY   \n",
       "210     2  France  Eugène CONSTANTErnest BARBEROLLEGeorges LECOIN...   \n",
       "462     2  France                                      Angelo PARISI   \n",
       "698     2  France                                  Benjamin DARBELET   \n",
       "\n",
       "             games          sport                           event  \n",
       "844          Japan       Handball                        handball  \n",
       "403         France  Alpine Skiing                        downhill  \n",
       "210         France         Rowing  four-oared shell with coxswain  \n",
       "462  United States           Judo            + 95kg (heavyweight)  \n",
       "698          China           Judo    60 - 66kg (half-lightweight)  "
      ]
     },
     "execution_count": 89,
     "metadata": {},
     "output_type": "execute_result"
    }
   ],
   "source": [
    "# Try to get the DF on one country - FRA (France)\n",
    "df_medalists = Getdataframe(html)\n",
    "\n",
    "df_medalists.sample(5)"
   ]
  },
  {
   "cell_type": "markdown",
   "metadata": {},
   "source": [
    "### <a id='toc1_4_2_'></a>[Extract All countries data](#toc0_)"
   ]
  },
  {
   "cell_type": "markdown",
   "metadata": {},
   "source": [
    "Scrape countries codes to loop on each of them (website url modification)  \n",
    "Link of countries codes : <a href=\"http://olympanalyt.com/OlympAnalytics.php?param_pagetype=RefCountries&param_dbversion=&param_country=CIV&param_games=ALL&param_sport=ALL\"> Countries list</a>"
   ]
  },
  {
   "cell_type": "code",
   "execution_count": 90,
   "metadata": {},
   "outputs": [
    {
     "name": "stdout",
     "output_type": "stream",
     "text": [
      "Response OK, continue.\n"
     ]
    }
   ],
   "source": [
    "# Countries list\n",
    "url = \"http://olympanalyt.com/OlympAnalytics.php?param_pagetype=RefCountries&param_dbversion=&param_country=CIV&param_games=ALL&param_sport=ALL\"\n",
    "\n",
    "html = GetHTML(url)"
   ]
  },
  {
   "cell_type": "code",
   "execution_count": 91,
   "metadata": {},
   "outputs": [],
   "source": [
    "# Parsing text in Beautifulsoup object\n",
    "soup = BeautifulSoup(html, \"html5lib\")"
   ]
  },
  {
   "cell_type": "code",
   "execution_count": 92,
   "metadata": {},
   "outputs": [],
   "source": [
    "# Select the right table\n",
    "table = soup.find_all(\"table\", class_=\"simpletable\", style=\"text-align:center;\")[1] # 2nd table\n",
    "rows = table.find_all(\"tr\")\n",
    "countries = []\n",
    "\n",
    "for row in rows[2:]: # ignore the column names\n",
    "    data = row.text.split()\n",
    "\n",
    "    if len(data) == 5 :\n",
    "        countries.append(\n",
    "            {\n",
    "                'Code':data[0], \n",
    "                'Country':data[1], \n",
    "                'Continent':data[2], \n",
    "                'Firstparticipation':data[3], \n",
    "                'Lastparticipation':data[4]\n",
    "            }\n",
    "        )\n",
    "    else :\n",
    "        next\n",
    "\n",
    "df_countries = pd.DataFrame(countries)"
   ]
  },
  {
   "cell_type": "code",
   "execution_count": 93,
   "metadata": {},
   "outputs": [
    {
     "data": {
      "text/html": [
       "<div>\n",
       "<style scoped>\n",
       "    .dataframe tbody tr th:only-of-type {\n",
       "        vertical-align: middle;\n",
       "    }\n",
       "\n",
       "    .dataframe tbody tr th {\n",
       "        vertical-align: top;\n",
       "    }\n",
       "\n",
       "    .dataframe thead th {\n",
       "        text-align: right;\n",
       "    }\n",
       "</style>\n",
       "<table border=\"1\" class=\"dataframe\">\n",
       "  <thead>\n",
       "    <tr style=\"text-align: right;\">\n",
       "      <th></th>\n",
       "      <th>Code</th>\n",
       "      <th>Country</th>\n",
       "      <th>Continent</th>\n",
       "      <th>Firstparticipation</th>\n",
       "      <th>Lastparticipation</th>\n",
       "    </tr>\n",
       "  </thead>\n",
       "  <tbody>\n",
       "    <tr>\n",
       "      <th>180</th>\n",
       "      <td>ZZX</td>\n",
       "      <td>Mixed</td>\n",
       "      <td>Team</td>\n",
       "      <td>1896</td>\n",
       "      <td>1904</td>\n",
       "    </tr>\n",
       "    <tr>\n",
       "      <th>0</th>\n",
       "      <td>AFG</td>\n",
       "      <td>Afghanistan</td>\n",
       "      <td>Asia</td>\n",
       "      <td>1936</td>\n",
       "      <td>2021</td>\n",
       "    </tr>\n",
       "    <tr>\n",
       "      <th>164</th>\n",
       "      <td>UGA</td>\n",
       "      <td>Uganda</td>\n",
       "      <td>Africa</td>\n",
       "      <td>1956</td>\n",
       "      <td>2021</td>\n",
       "    </tr>\n",
       "    <tr>\n",
       "      <th>128</th>\n",
       "      <td>PLE</td>\n",
       "      <td>Palestine</td>\n",
       "      <td>Asia</td>\n",
       "      <td>1996</td>\n",
       "      <td>2021</td>\n",
       "    </tr>\n",
       "    <tr>\n",
       "      <th>62</th>\n",
       "      <td>GRE</td>\n",
       "      <td>Greece</td>\n",
       "      <td>Europe</td>\n",
       "      <td>1896</td>\n",
       "      <td>2022</td>\n",
       "    </tr>\n",
       "  </tbody>\n",
       "</table>\n",
       "</div>"
      ],
      "text/plain": [
       "    Code      Country Continent Firstparticipation Lastparticipation\n",
       "180  ZZX        Mixed      Team               1896              1904\n",
       "0    AFG  Afghanistan      Asia               1936              2021\n",
       "164  UGA       Uganda    Africa               1956              2021\n",
       "128  PLE    Palestine      Asia               1996              2021\n",
       "62   GRE       Greece    Europe               1896              2022"
      ]
     },
     "execution_count": 93,
     "metadata": {},
     "output_type": "execute_result"
    }
   ],
   "source": [
    "df_countries.sample(5)"
   ]
  },
  {
   "cell_type": "markdown",
   "metadata": {},
   "source": [
    "### <a id='toc1_4_3_'></a>[Extract all data](#toc0_)"
   ]
  },
  {
   "cell_type": "code",
   "execution_count": 94,
   "metadata": {},
   "outputs": [
    {
     "name": "stdout",
     "output_type": "stream",
     "text": [
      "Response OK, continue.\n",
      "Response OK, continue.\n",
      "Response OK, continue.\n",
      "Response OK, continue.\n",
      "Response OK, continue.\n"
     ]
    }
   ],
   "source": [
    "code_countries = df_countries[\"Code\"]\n",
    "\n",
    "i = 0\n",
    "for country in code_countries :\n",
    "    url = \"http://olympanalyt.com/OlympAnalytics.php?param_pagetype=Medals&param_dbversion=&param_country=\" + country + \"&param_games=ALL&param_sport=ALL\"\n",
    "    html = GetHTML(url)\n",
    "    df_temp = Getdataframe(html)\n",
    "    if i == 0 :\n",
    "        df_olympic = df_temp\n",
    "        i += 1\n",
    "    else : \n",
    "        df_olympic = pd.concat([df_olympic, df_temp], ignore_index=True)\n",
    "\n",
    "    #Delete these codes after tries\n",
    "    i += 1\n",
    "    if i > 5 :\n",
    "        break"
   ]
  },
  {
   "cell_type": "code",
   "execution_count": 95,
   "metadata": {},
   "outputs": [
    {
     "data": {
      "text/html": [
       "<div>\n",
       "<style scoped>\n",
       "    .dataframe tbody tr th:only-of-type {\n",
       "        vertical-align: middle;\n",
       "    }\n",
       "\n",
       "    .dataframe tbody tr th {\n",
       "        vertical-align: top;\n",
       "    }\n",
       "\n",
       "    .dataframe thead th {\n",
       "        text-align: right;\n",
       "    }\n",
       "</style>\n",
       "<table border=\"1\" class=\"dataframe\">\n",
       "  <thead>\n",
       "    <tr style=\"text-align: right;\">\n",
       "      <th></th>\n",
       "      <th>medal</th>\n",
       "      <th>country</th>\n",
       "      <th>athlete_name</th>\n",
       "      <th>games</th>\n",
       "      <th>sport</th>\n",
       "      <th>event</th>\n",
       "    </tr>\n",
       "  </thead>\n",
       "  <tbody>\n",
       "    <tr>\n",
       "      <th>9</th>\n",
       "      <td>1</td>\n",
       "      <td>Algeria</td>\n",
       "      <td>Нурия Мерах-Бенида</td>\n",
       "      <td>Australia</td>\n",
       "      <td>Athletics</td>\n",
       "      <td>1500m</td>\n",
       "    </tr>\n",
       "    <tr>\n",
       "      <th>10</th>\n",
       "      <td>2</td>\n",
       "      <td>Algeria</td>\n",
       "      <td>Али Саид-Сиф</td>\n",
       "      <td>Australia</td>\n",
       "      <td>Athletics</td>\n",
       "      <td>5000m</td>\n",
       "    </tr>\n",
       "    <tr>\n",
       "      <th>17</th>\n",
       "      <td>2</td>\n",
       "      <td>Algeria</td>\n",
       "      <td>MAKHLOUFI Taoufik</td>\n",
       "      <td>Brazil</td>\n",
       "      <td>Athletics</td>\n",
       "      <td>800m</td>\n",
       "    </tr>\n",
       "    <tr>\n",
       "      <th>13</th>\n",
       "      <td>3</td>\n",
       "      <td>Algeria</td>\n",
       "      <td>Мохамед Аллалу</td>\n",
       "      <td>Australia</td>\n",
       "      <td>Boxing</td>\n",
       "      <td>60 - 63.5kg (light-welterweight)</td>\n",
       "    </tr>\n",
       "    <tr>\n",
       "      <th>16</th>\n",
       "      <td>1</td>\n",
       "      <td>Algeria</td>\n",
       "      <td>Taoufik MAKHLOUFI</td>\n",
       "      <td>Great Britain</td>\n",
       "      <td>Athletics</td>\n",
       "      <td>1500m</td>\n",
       "    </tr>\n",
       "  </tbody>\n",
       "</table>\n",
       "</div>"
      ],
      "text/plain": [
       "   medal  country        athlete_name          games      sport  \\\n",
       "9      1  Algeria  Нурия Мерах-Бенида      Australia  Athletics   \n",
       "10     2  Algeria        Али Саид-Сиф      Australia  Athletics   \n",
       "17     2  Algeria   MAKHLOUFI Taoufik         Brazil  Athletics   \n",
       "13     3  Algeria      Мохамед Аллалу      Australia     Boxing   \n",
       "16     1  Algeria   Taoufik MAKHLOUFI  Great Britain  Athletics   \n",
       "\n",
       "                               event  \n",
       "9                              1500m  \n",
       "10                             5000m  \n",
       "17                              800m  \n",
       "13  60 - 63.5kg (light-welterweight)  \n",
       "16                             1500m  "
      ]
     },
     "execution_count": 95,
     "metadata": {},
     "output_type": "execute_result"
    }
   ],
   "source": [
    "df_olympic.sample(5)"
   ]
  }
 ],
 "metadata": {
  "kernelspec": {
   "display_name": "Python 3",
   "language": "python",
   "name": "python3"
  },
  "language_info": {
   "codemirror_mode": {
    "name": "ipython",
    "version": 3
   },
   "file_extension": ".py",
   "mimetype": "text/x-python",
   "name": "python",
   "nbconvert_exporter": "python",
   "pygments_lexer": "ipython3",
   "version": "3.11.9"
  }
 },
 "nbformat": 4,
 "nbformat_minor": 2
}
