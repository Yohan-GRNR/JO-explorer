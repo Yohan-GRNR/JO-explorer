{
 "cells": [
  {
   "cell_type": "markdown",
   "metadata": {},
   "source": [
    "# <a id='toc1_'></a>[JO 2024 project](#toc0_)"
   ]
  },
  {
   "cell_type": "markdown",
   "metadata": {},
   "source": [
    "**Table of contents**<a id='toc0_'></a>    \n",
    "- [JO 2024 project](#toc1_)    \n",
    "  - [Prelude](#toc1_1_)    \n",
    "  - [Imports](#toc1_2_)    \n",
    "  - [Fonctions](#toc1_3_)    \n",
    "  - [Data collect](#toc1_4_)    \n",
    "    - [To do :](#toc1_4_1_)    \n",
    "\n",
    "<!-- vscode-jupyter-toc-config\n",
    "\tnumbering=false\n",
    "\tanchor=true\n",
    "\tflat=false\n",
    "\tminLevel=1\n",
    "\tmaxLevel=6\n",
    "\t/vscode-jupyter-toc-config -->\n",
    "<!-- THIS CELL WILL BE REPLACED ON TOC UPDATE. DO NOT WRITE YOUR TEXT IN THIS CELL -->"
   ]
  },
  {
   "cell_type": "markdown",
   "metadata": {},
   "source": [
    "## <a id='toc1_1_'></a>[Prelude](#toc0_)"
   ]
  },
  {
   "cell_type": "markdown",
   "metadata": {},
   "source": [
    "Work in progress . . .  \n",
    "\n",
    "Summarize about the project :\n",
    "- Data source : <a href=\"https://www.olympic.org/news\">International Olympic Committee</a>\n",
    "- Data extract from : <a href=\"http://olympanalyt.com/OlympAnalytics.php\">olympanalyt.com - mail : sportsencyclo@gmail.com</a>"
   ]
  },
  {
   "cell_type": "markdown",
   "metadata": {},
   "source": [
    "## <a id='toc1_2_'></a>[Imports](#toc0_)"
   ]
  },
  {
   "cell_type": "code",
   "execution_count": 19,
   "metadata": {},
   "outputs": [],
   "source": [
    "from bs4 import BeautifulSoup\n",
    "import requests\n",
    "import pandas as pd"
   ]
  },
  {
   "cell_type": "markdown",
   "metadata": {},
   "source": [
    "## <a id='toc1_3_'></a>[Fonctions](#toc0_)"
   ]
  },
  {
   "cell_type": "code",
   "execution_count": 20,
   "metadata": {},
   "outputs": [],
   "source": [
    "def GetHTML(url) :\n",
    "    \"\"\"\n",
    "    Needs : url website\n",
    "    Return : HTML text\n",
    "    \"\"\"\n",
    "    response = requests.get(url)\n",
    "\n",
    "    if response.status_code == 200 :\n",
    "        print(\"Response OK, continue.\")\n",
    "    else :\n",
    "        print(\"Access impossible.\")\n",
    "    \n",
    "    return response.text"
   ]
  },
  {
   "cell_type": "code",
   "execution_count": 21,
   "metadata": {},
   "outputs": [],
   "source": [
    "def Getdataframe(html) :\n",
    "\n",
    "    \"\"\"\n",
    "    Needs : HTML text \n",
    "            with response = requests.get(url).text\n",
    "    Return : Dataframe with athlete AND sport description : medal, country, athlete_name, games, sport, event\n",
    "    Requirement : Must to apply on website like : adress[COUNTRY]adress\n",
    "                i.e : http://olympanalyt.com/OlympAnalytics.php?param_pagetype=Medals&param_dbversion=&param_country=[COUNTRY]&param_games=ALL&param_sport=ALL\n",
    "    \"\"\"\n",
    "\n",
    "    # Converting text (html) in soup (text parsed)\n",
    "    soup = BeautifulSoup(html, \"html5lib\") #parse\n",
    "\n",
    "    # Finding the correct table according to description\n",
    "    table = soup.find(\"table\", class_=\"simpletable\", style=\"text-align:left;\")\n",
    "\n",
    "    # Retrieving the list (find_all) of all rows\n",
    "    rows = table.find_all(\"tr\")\n",
    "\n",
    "    # Creating the table (future dataframe)\n",
    "    athletes = []\n",
    "\n",
    "    # For each row (= athlete)\n",
    "    for row in rows:\n",
    "        #describe_athlete = row.text.split() # Get the text\n",
    "        cells = row.find_all(\"td\") # Retrieving the list (find_all) of all cells in the row\n",
    "\n",
    "        if len(cells) == 7: # If there are 7 cells then it's an athlete\n",
    "            medal = cells[0].find('img')['title'][0]  # Medal title\n",
    "            country = cells[1].find('img')['title']  # Athlete's country\n",
    "            athlete_name = cells[2].text.strip()  # Athlete's name\n",
    "            games = cells[3].find('img')['title']  # Olympic Games\n",
    "            sport = cells[4].find('img')['title']  # Sport\n",
    "            event = cells[6].text.strip()  # Event\n",
    "\n",
    "            # Add the information to the list of athletes\n",
    "            athletes.append({\n",
    "                'medal': medal,\n",
    "                'country': country,\n",
    "                'athlete_name': athlete_name,\n",
    "                'games': games,\n",
    "                'sport': sport,\n",
    "                'event': event\n",
    "                })\n",
    "            #print(cells)\n",
    "\n",
    "        else: # Otherwise it's not an athlete, move to the next row\n",
    "            next\n",
    "\n",
    "    return pd.DataFrame(athletes)\n"
   ]
  },
  {
   "cell_type": "markdown",
   "metadata": {},
   "source": [
    "## <a id='toc1_4_'></a>[Data collect](#toc0_)"
   ]
  },
  {
   "cell_type": "code",
   "execution_count": 22,
   "metadata": {},
   "outputs": [],
   "source": [
    "url = \"http://olympanalyt.com/OlympAnalytics.php?param_pagetype=Medals&param_dbversion=&param_country=FRA&param_games=ALL&param_sport=ALL\""
   ]
  },
  {
   "cell_type": "code",
   "execution_count": 23,
   "metadata": {},
   "outputs": [
    {
     "name": "stdout",
     "output_type": "stream",
     "text": [
      "Response OK, continue.\n"
     ]
    }
   ],
   "source": [
    "# Try with one country - FRA (France)\n",
    "html = GetHTML(url)"
   ]
  },
  {
   "cell_type": "code",
   "execution_count": null,
   "metadata": {},
   "outputs": [],
   "source": [
    "# Try to get the DF on one country - FRA (France)\n",
    "df_medalists = Getdataframe(html)\n",
    "\n",
    "df_medalists.sample(5)"
   ]
  },
  {
   "cell_type": "markdown",
   "metadata": {},
   "source": [
    "### <a id='toc1_4_1_'></a>[To do :](#toc0_)\n",
    "Scrape countries codes to loop on each of them (website url modification)  \n",
    "Link of countries codes : \"http://olympanalyt.com/OlympAnalytics.php?param_pagetype=RefCountries&param_dbversion=&param_country=CIV&param_games=ALL&param_sport=ALL\""
   ]
  },
  {
   "cell_type": "code",
   "execution_count": null,
   "metadata": {},
   "outputs": [],
   "source": []
  }
 ],
 "metadata": {
  "kernelspec": {
   "display_name": "Python 3",
   "language": "python",
   "name": "python3"
  },
  "language_info": {
   "codemirror_mode": {
    "name": "ipython",
    "version": 3
   },
   "file_extension": ".py",
   "mimetype": "text/x-python",
   "name": "python",
   "nbconvert_exporter": "python",
   "pygments_lexer": "ipython3",
   "version": "3.11.9"
  }
 },
 "nbformat": 4,
 "nbformat_minor": 2
}
